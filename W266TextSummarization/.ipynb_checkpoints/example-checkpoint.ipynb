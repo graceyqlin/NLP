{
 "cells": [
  {
   "cell_type": "code",
   "execution_count": 1,
   "metadata": {
    "collapsed": true
   },
   "outputs": [],
   "source": [
    "import pandas as pd\n",
    "nyt_data = pd.read_csv('abstract_nyt_structured_data_1000.csv', \n",
    "                       delimiter=',', index_col=0, header=None, quotechar='\"', quoting=1, \n",
    "                       skipinitialspace=True, engine='c')"
   ]
  },
  {
   "cell_type": "code",
   "execution_count": 2,
   "metadata": {
    "collapsed": false
   },
   "outputs": [
    {
     "data": {
      "text/html": [
       "<div>\n",
       "<style scoped>\n",
       "    .dataframe tbody tr th:only-of-type {\n",
       "        vertical-align: middle;\n",
       "    }\n",
       "\n",
       "    .dataframe tbody tr th {\n",
       "        vertical-align: top;\n",
       "    }\n",
       "\n",
       "    .dataframe thead th {\n",
       "        text-align: right;\n",
       "    }\n",
       "</style>\n",
       "<table border=\"1\" class=\"dataframe\">\n",
       "  <thead>\n",
       "    <tr style=\"text-align: right;\">\n",
       "      <th></th>\n",
       "      <th>1</th>\n",
       "      <th>2</th>\n",
       "      <th>3</th>\n",
       "      <th>4</th>\n",
       "    </tr>\n",
       "    <tr>\n",
       "      <th>0</th>\n",
       "      <th></th>\n",
       "      <th></th>\n",
       "      <th></th>\n",
       "      <th></th>\n",
       "    </tr>\n",
       "  </thead>\n",
       "  <tbody>\n",
       "    <tr>\n",
       "      <th>/1988/03/23/0129960.xml</th>\n",
       "      <td>For Health Survey, Many Offer More Excuses Tha...</td>\n",
       "      <td>New York City Dept of Health and Mental Hygie...</td>\n",
       "      <td>New York City's ambitious effort to give physi...</td>\n",
       "      <td>New York City's ambitious effort to give physi...</td>\n",
       "    </tr>\n",
       "    <tr>\n",
       "      <th>/1988/03/23/0129961.xml</th>\n",
       "      <td>McGreevey Seems Set To Exit On His Terms</td>\n",
       "      <td>Gov James E McGreevey, whose insistence on st...</td>\n",
       "      <td>After revealing on national television that he...</td>\n",
       "      <td>After revealing on national television that he...</td>\n",
       "    </tr>\n",
       "  </tbody>\n",
       "</table>\n",
       "</div>"
      ],
      "text/plain": [
       "                                                                          1  \\\n",
       "0                                                                             \n",
       "/1988/03/23/0129960.xml   For Health Survey, Many Offer More Excuses Tha...   \n",
       "/1988/03/23/0129961.xml           McGreevey Seems Set To Exit On His Terms    \n",
       "\n",
       "                                                                          2  \\\n",
       "0                                                                             \n",
       "/1988/03/23/0129960.xml    New York City Dept of Health and Mental Hygie...   \n",
       "/1988/03/23/0129961.xml    Gov James E McGreevey, whose insistence on st...   \n",
       "\n",
       "                                                                          3  \\\n",
       "0                                                                             \n",
       "/1988/03/23/0129960.xml   New York City's ambitious effort to give physi...   \n",
       "/1988/03/23/0129961.xml   After revealing on national television that he...   \n",
       "\n",
       "                                                                          4  \n",
       "0                                                                            \n",
       "/1988/03/23/0129960.xml   New York City's ambitious effort to give physi...  \n",
       "/1988/03/23/0129961.xml   After revealing on national television that he...  "
      ]
     },
     "execution_count": 2,
     "metadata": {},
     "output_type": "execute_result"
    }
   ],
   "source": [
    "nyt_data.head(2)"
   ]
  },
  {
   "cell_type": "code",
   "execution_count": 4,
   "metadata": {
    "collapsed": false
   },
   "outputs": [
    {
     "data": {
      "text/plain": [
       "\" New York City Dept of Health and Mental Hygiene's efforts to compile detailed portrait of city's health runs into unexpected trouble; canvassers report problems trying to get representative sample, especially in well-off neighborhoods where people are too busy, too wary and just too hard to reach; photos (M)  \""
      ]
     },
     "execution_count": 4,
     "metadata": {},
     "output_type": "execute_result"
    }
   ],
   "source": [
    "#abstract\n",
    "nyt_data[2][0]"
   ]
  },
  {
   "cell_type": "code",
   "execution_count": 5,
   "metadata": {
    "collapsed": false
   },
   "outputs": [
    {
     "data": {
      "text/plain": [
       "\"New York City's ambitious effort to give physical exams and blood tests to more than 2,000 people has run into unexpected trouble getting residents to participate, especially in affluent areas.City health officials hope to use the results to compile a detailed portrait of the city's health, but that means getting a representative sampling from each neighborhood. Two months into the effort, they have found that New Yorkers, particularly in well-off neighborhoods, are too busy, too wary and just too hard to reach. \""
      ]
     },
     "execution_count": 5,
     "metadata": {},
     "output_type": "execute_result"
    }
   ],
   "source": [
    "#lead\n",
    "nyt_data[3][0]"
   ]
  },
  {
   "cell_type": "code",
   "execution_count": null,
   "metadata": {
    "collapsed": true
   },
   "outputs": [],
   "source": []
  }
 ],
 "metadata": {
  "kernelspec": {
   "display_name": "Python [Root]",
   "language": "python",
   "name": "Python [Root]"
  },
  "language_info": {
   "codemirror_mode": {
    "name": "ipython",
    "version": 3
   },
   "file_extension": ".py",
   "mimetype": "text/x-python",
   "name": "python",
   "nbconvert_exporter": "python",
   "pygments_lexer": "ipython3",
   "version": "3.5.2"
  }
 },
 "nbformat": 4,
 "nbformat_minor": 0
}
