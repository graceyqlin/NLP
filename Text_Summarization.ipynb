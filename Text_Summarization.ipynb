{
 "cells": [
  {
   "cell_type": "code",
   "execution_count": 25,
   "metadata": {},
   "outputs": [
    {
     "name": "stdout",
     "output_type": "stream",
     "text": [
      "Archive:  ../nyt_extracted.zip\n",
      "  inflating: nyt_structured_data.csv.201811032210  \n",
      "  inflating: nyt_structured_data.txt  \n"
     ]
    }
   ],
   "source": [
    "# import pandas as pd\n",
    "!unzip ../nyt_extracted.zip"
   ]
  },
  {
   "cell_type": "code",
   "execution_count": 2,
   "metadata": {},
   "outputs": [],
   "source": [
    "import pandas as pd"
   ]
  },
  {
   "cell_type": "code",
   "execution_count": 3,
   "metadata": {},
   "outputs": [],
   "source": [
    "data = pd.read_csv('nyt_structured_data.txt', sep = '\\t', header=None)"
   ]
  },
  {
   "cell_type": "code",
   "execution_count": 23,
   "metadata": {},
   "outputs": [
    {
     "data": {
      "text/plain": [
       "\"1987/03/03/0018316.xml , 'DATA DESIGN LABORATORIES reports earnings for Qtr to Dec 31' , 'LEAD:*3*** COMPANY REPORTS ***3*DATA DESIGN LABORATORIES (NYSE)Qtr to Dec 3119861985Revenue18,316,00016,858,000Net inc25,000251,000Share earns-.046mo rev35,571,00036,756,000Net incb6,187,000b762,000Share earns.94.12' , 'LEAD:*3*** COMPANY REPORTS ***3*DATA DESIGN LABORATORIES (NYSE)Qtr to Dec 3119861985Revenue18,316,00016,858,000Net inc25,000251,000Share earns-.046mo rev35,571,00036,756,000Net incb6,187,000b762,000Share earns.94.12*3*** COMPANY REPORTS ***3*DATA DESIGN LABORATORIES (NYSE)Qtr to Dec 3119861985Revenue18,316,00016,858,000Net inc25,000251,000Share earns-.046mo rev35,571,00036,756,000Net incb6,187,000b762,000Share earns.94.12b-Includes a pre-tax gain of $9,414,000 on the sale of marketable securities, compared with a similar gain of $116,000 for a year earlier.'\""
      ]
     },
     "execution_count": 23,
     "metadata": {},
     "output_type": "execute_result"
    }
   ],
   "source": [
    "data.iloc[0,0]"
   ]
  },
  {
   "cell_type": "code",
   "execution_count": 22,
   "metadata": {},
   "outputs": [
    {
     "name": "stdout",
     "output_type": "stream",
     "text": [
      "title is  '40-JET DEAL EXPECTED AT AMERICAN' , '\n",
      "===============================================\n",
      "abstract is  American Airlines is expected to announce today that it is buying 40 wide-bodied aircraft - 25 from Airbus Industrie and 15 from the Boeing Company - and 80 engines from the General Electric Company to power the aircraft.' , '\n",
      "===============================================\n",
      "body is  American Airlines is expected to announce today that it is buying 40 wide-bodied aircraft - 25 from Airbus Industrie and 15 from the Boeing Company - and 80 engines from the General Electric Company to power the aircraft.American Airlines is expected to announce today that it is buying 40 wide-bodied aircraft - 25 from Airbus Industrie and 15 from the Boeing Company - and 80 engines from the General Electric Company to power the aircraft.Industry sources said the orders would total $2.5 billion.American split the order between the two aircraft manufacturers as part of an effort to get a better price and conditions, but it decided to give the engine order to one manufacturer, the sources said.The order of 80 CF6-80C2 engines, worth more than $5 million apiece, is the largest order of commercial aircraft engines ever received by G. E. It is expected to strengthen the company's lead over its rival in the big-engine market, Pratt &amp; Whitney, a unit of the United Technologies Corporation. With parts included, the engine order is worth about $500 million. G. E. Victory Called SubstantialAnalysts said that G.E.'s victory was substantial but that the loss was not devastating to Pratt &amp; Whitney and its PW4000 engines. Both companies are racing to power the more fuel-efficient wide-bodied jets that airlines throughout the world are busily ordering.''It's a significant order, and American Airlines is an influential customer,'' said Robert Kugel, an aerosapce analyst for Morgan Stanley &amp; Company. In the race so far, G. E. has surpassed Pratt &amp; Whitney in orders for the engines by 2 to 1, one industry source estimated.The order was also considered a boost for Airbus, which in the United States until now has been able to sell its planes mostly to weaker carriers such as Eastern Airlines. Airbus Industries, which was created in 1970, links together the main aerospace companies of France, West Germany, Britain and Spain. It has become a force in the world's commercial airplane market. Stock PricesOn the New York Stock Exchange yesterday, G.E.'s stock price rose 37.5 cents, to $103.75, while Boeing's fell $1, to $53.25, and United Technologies' was down 87.5 cents, to $53.75.Industry sources said that the engines would be made by G.E. at its plant in Evandale, Ohio, near Cincinnati.The planes themselves go for about $50 million apiece, meaning that Airbus would get $1.25 billion, and Boeing $750 million. It was not clear when American would receive the new planes.Mr. Kugel said that splitting the plane order showed that Robert L. Crandall, the chairman of AMR Corporation, the parent of American, and its managment were ''very canny traders.'' Unusual Conditions of OrderIndustry sources said that the conditions of the order were unusual in that the planes were being acquired under a ''lease to buy'' arrangement in which American can return the planes to the manufacturers on short notice.An industry source said, however, that American could not simply walk away and give back the planes - that it had to meet certain conditions and that there were financial penalties.Nevertheless, Tassos Philipakkos, the aerospace analyst for Moody's Investor Service, said that the ability to give the planes back considerably increased the risk to the manufacturers, who could suddenly find themselves with a surplus of planes to sell.''It's very unusual, at a time when the demand for aircraft is so strong, to have a buyers' market,'' he said. ''You would think it would be much more balanced.''Mr. Kugel added, however, that the chances of American returning planes were remote since it was a financially strong carrier and it would have to be in serious trouble to back off from its ambitious plans to expand its service, particularly in international markets.The planes are long-range versions of the A300 and the Boeing 767. The A300's have a range of 4,500 miles and will seat about 265 passengers, while the 767's have a range of 6,680 miles and will be able to seat 215. American's Expansion of RoutesAmerican has been seeking to expand its international routes and will soon begin serving Paris and Frankfurt from its hub at Dallas/Fort Worth International Airport.The airline has also been seeking to expand further its international service, having fallen behind its main competitor, United Airlines, which in one move last year expanded into the Pacific by acquiring routes from Pan American World Airways.American has looked at the possibility of buying Pan Am, which has an extensive route network between the United States, Europe and other parts of the world. Recently American said it was not interested in buying Pan Am as a whole, but it was intrested in acquiring some of its assets. Some analysts believe that American is still very interested in acquiring international routes from Pan Am but that it decided it would be less risky and cheaper to buy them from the carrier rather than taking it over.One analyst, who did not want his name used, said that the purchase of the planes, which could all fly the trans-Atlantic routes, would put American in a good position to expand quickly in such markets if the routes become available through a selloff by Pan Am. Unlike domestic routes, where carriers can fly where they want if airport restrictions are not a problem, international routes typically are acquired by complex and long negotiations and can take decades to assemble.'\n",
      "===============================================\n",
      "estimated summary is  American Airlines is expected to announce today that it is buying 40 wide-bodied aircraft- 25 from Airbus Industrie and 15 from the Boeing Company- and 80 engines from the General Electric Company to power the aircraft. Industry sources said the orders would total $ 2.5 billion. American split the order between the two aircraft manufacturers as part of an effort to get a better price and conditions, but it decided to give the engine order to one manufacturer, the sources said. The order of 80 CF6-80C2 engines, worth more than $ 5 million apiece, is the largest order of commercial aircraft engines ever received by G. E. With parts included, the engine order is worth about $ 500 million. Whitney and its PW4000 engines. It was not clear when American would receive the new planes.\n"
     ]
    }
   ],
   "source": [
    "index = 27\n",
    "\n",
    "print(\"title is\", data.iloc[index,0].split(\".xml ,\")[1].split(\"LEAD:\")[0])\n",
    "print(\"===============================================\")\n",
    "\n",
    "print(\"abstract is\", data.iloc[index,0].split(\".xml ,\")[1].split(\"LEAD:\")[1])\n",
    "print(\"===============================================\")\n",
    "\n",
    "print(\"body is\", data.iloc[index,0].split(\".xml ,\")[1].split(\"LEAD:\")[2])\n",
    "print(\"===============================================\")\n",
    "\n",
    "TR = TextRanker(data.iloc[index,0].split(\".xml ,\")[1].split(\"LEAD:\")[2])\n",
    "estimated_summary = TR.run()\n",
    "print(\"estimated summary is \", estimated_summary)"
   ]
  },
  {
   "cell_type": "code",
   "execution_count": 3,
   "metadata": {},
   "outputs": [
    {
     "data": {
      "text/html": [
       "<div>\n",
       "<style scoped>\n",
       "    .dataframe tbody tr th:only-of-type {\n",
       "        vertical-align: middle;\n",
       "    }\n",
       "\n",
       "    .dataframe tbody tr th {\n",
       "        vertical-align: top;\n",
       "    }\n",
       "\n",
       "    .dataframe thead th {\n",
       "        text-align: right;\n",
       "    }\n",
       "</style>\n",
       "<table border=\"1\" class=\"dataframe\">\n",
       "  <thead>\n",
       "    <tr style=\"text-align: right;\">\n",
       "      <th></th>\n",
       "      <th>0</th>\n",
       "    </tr>\n",
       "  </thead>\n",
       "  <tbody>\n",
       "    <tr>\n",
       "      <th>0</th>\n",
       "      <td>1987/03/03/0018316.xml , 'DATA DESIGN LABORATO...</td>\n",
       "    </tr>\n",
       "    <tr>\n",
       "      <th>1</th>\n",
       "      <td>1987/03/03/0018302.xml , 'MOBIL'S CLEAR PACKAG...</td>\n",
       "    </tr>\n",
       "    <tr>\n",
       "      <th>2</th>\n",
       "      <td>1987/03/03/0018289.xml , 'Russia Offers to Aid...</td>\n",
       "    </tr>\n",
       "    <tr>\n",
       "      <th>3</th>\n",
       "      <td>1987/03/03/0018262.xml , 'AFTER 7 DECADES OF C...</td>\n",
       "    </tr>\n",
       "    <tr>\n",
       "      <th>4</th>\n",
       "      <td>1987/03/03/0018276.xml , 'BOWLING: BOOM SPORT ...</td>\n",
       "    </tr>\n",
       "  </tbody>\n",
       "</table>\n",
       "</div>"
      ],
      "text/plain": [
       "                                                   0\n",
       "0  1987/03/03/0018316.xml , 'DATA DESIGN LABORATO...\n",
       "1  1987/03/03/0018302.xml , 'MOBIL'S CLEAR PACKAG...\n",
       "2  1987/03/03/0018289.xml , 'Russia Offers to Aid...\n",
       "3  1987/03/03/0018262.xml , 'AFTER 7 DECADES OF C...\n",
       "4  1987/03/03/0018276.xml , 'BOWLING: BOOM SPORT ..."
      ]
     },
     "execution_count": 3,
     "metadata": {},
     "output_type": "execute_result"
    }
   ],
   "source": [
    "data.head()"
   ]
  },
  {
   "cell_type": "code",
   "execution_count": 36,
   "metadata": {},
   "outputs": [
    {
     "data": {
      "text/plain": [
       "(1855660, 1)"
      ]
     },
     "execution_count": 36,
     "metadata": {},
     "output_type": "execute_result"
    }
   ],
   "source": [
    "data.shape"
   ]
  },
  {
   "cell_type": "code",
   "execution_count": 33,
   "metadata": {},
   "outputs": [],
   "source": [
    "import random"
   ]
  },
  {
   "cell_type": "code",
   "execution_count": 19,
   "metadata": {},
   "outputs": [],
   "source": [
    "\n",
    "from TextRanker import TextRanker"
   ]
  },
  {
   "cell_type": "code",
   "execution_count": 35,
   "metadata": {},
   "outputs": [],
   "source": [
    "def summarization(df):\n",
    "    out_df = []\n",
    "    for ind in range(len(df)):\n",
    "        try:\n",
    "            input_header, input_abstract, input_body = df.iloc[ind,0].split(\".xml ,\")[1].split(\"LEAD:\")\n",
    "            TR = TextRanker(input_body)\n",
    "            estimated_summary = TR.run()\n",
    "            out_df.append([input_header, input_abstract, estimated_summary])\n",
    "        except Exception as err:\n",
    "            continue\n",
    "    return pd.DataFrame(out_df, columns=[\"input_header\",\"input_abstract\", \"estimated_summary\"])"
   ]
  },
  {
   "cell_type": "code",
   "execution_count": 36,
   "metadata": {
    "scrolled": true
   },
   "outputs": [],
   "source": [
    "test_data = data.sample(100)\n",
    "out = summarization(test_data)"
   ]
  },
  {
   "cell_type": "code",
   "execution_count": 37,
   "metadata": {},
   "outputs": [
    {
     "name": "stdout",
     "output_type": "stream",
     "text": [
      "test_data is                                                          0\n",
      "715173   1994/08/12/0705807.xml , 'Abroad at Home; The ...\n",
      "214689   1989/03/26/0234684.xml , 'CHILDREN'S BOOKS/POE...\n",
      "872367   1996/09/22/0878726.xml , 'Wild Things From Man...\n",
      "968088   1997/01/06/0899864.xml , 'Radio Free Asia's Si...\n",
      "470248   1991/08/04/0465033.xml , 'The World; In the De...\n",
      "1739557  2006/04/10/1753534.xml , 'The Egg Roll (Again!...\n",
      "154604   1988/10/10/0186696.xml , 'Redskins Roll Past C...\n",
      "337132   1990/05/30/0357526.xml , 'American Goalies Wai...\n",
      "1224606  2000/09/26/1233873.xml , 'The Rural Life; The ...\n",
      "374506   1990/09/04/0381645.xml , 'Tennis;   Flashily a...\n",
      "598182   1993/05/12/0608410.xml , 'Fiat, in Scandal, Ad...\n",
      "238310   1989/02/03/0219944.xml , 'Zonic Corp reports e...\n",
      "636696   1993/08/09/0627588.xml , 'Jennifer J. Semel, C...\n",
      "4437     1987/03/07/0019359.xml , 'NEW YORK CITY'S JOBL...\n",
      "1480977  2003/02/19/1466165.xml , 'World Business Brief...\n",
      "1818856  2007/03/28/1836214.xml , 'Episcopalians In Col...\n",
      "659057   1993/12/22/0657515.xml , 'New Data Sought on M...\n",
      "609094   1993/11/21/0651346.xml , 'Neil Simon Opens A D...\n",
      "1130630  1999/09/07/1136076.xml , 'Bean's Friends and F...\n",
      "527275   1992/11/29/0573557.xml , 'Janis L. Oolie and G...\n",
      "1561922  2004/04/22/1575935.xml , 'RESIDENTIAL SALES' ,...\n",
      "1298365  2001/11/25/1345894.xml , 'Dot-Com Is Dot-Gone,...\n",
      "1630461  2004/06/13/1589045.xml , 'For the Duchess, a P...\n",
      "1352196  2001/12/09/1349688.xml , 'One E-Mail Message C...\n",
      "617343   1993/10/31/0645935.xml , 'And in the West, The...\n",
      "852601   1996/11/13/0889544.xml , 'USAir to Get New Nam...\n",
      "564882   1992/01/24/0502749.xml , 'Brett to Be Married'...\n",
      "1600939  2004/07/25/1599383.xml , 'America's Shortage o...\n",
      "761047   1995/11/11/0808151.xml , 'Protest Sets Off Rio...\n",
      "1591561  2004/10/01/1615561.xml , 'INSIDE' , '28 Palest...\n",
      "...                                                    ...\n",
      "1450456  2002/12/06/1446349.xml , 'Accounts' , '* Coors...\n",
      "467331   1991/09/01/0470712.xml , 'LOOSENING THE STRAIG...\n",
      "420116   1991/04/05/0435213.xml , 'Bush and Japanese Ca...\n",
      "129654   1988/05/01/0140604.xml , 'THE LITTLE ENGINE TH...\n",
      "421924   1991/04/28/0441656.xml , 'Campus Life: Souther...\n",
      "1463847  2003/04/11/1480055.xml , 'Paid Notice: Deaths ...\n",
      "1230955  2000/08/16/1222962.xml , 'With Safety in Doubt...\n",
      "986981   1998/03/17/1002721.xml , 'Paid Notice: Deaths ...\n",
      "209974   1988/12/14/0206374.xml , 'Book Notes' , 'LEAD:...\n",
      "1762604  2006/11/09/1803320.xml , 'Paid Notice: Deaths ...\n",
      "124592   1988/05/20/0146780.xml , 'Review/Art; Ilya Kab...\n",
      "132731   1988/05/25/0148507.xml , 'Raven Industries rep...\n",
      "1738484  2006/04/29/1757849.xml , 'Mexico Moves to Bols...\n",
      "1605327  2004/09/07/1609691.xml , 'Boy Dies; Mother Cha...\n",
      "907578   1997/04/27/0925575.xml , 'In Fragments' , 'WE ...\n",
      "996511   1998/04/09/1008523.xml , 'Edsel Ford 2d To Lea...\n",
      "490637   1991/12/03/0491179.xml , 'Q&amp;A' , 'Spectacu...\n",
      "815710   1995/12/19/0817002.xml , 'U.S. Commander in Bo...\n",
      "1079411  1999/03/01/1089015.xml , 'Paid Notice: Deaths ...\n",
      "157270   1988/10/01/0184116.xml , 'Kitty Dukakis Urging...\n",
      "676546   1994/05/06/0685459.xml , 'Louis F. Branco; Art...\n",
      "752559   1995/05/06/0760637.xml , 'Europeans Struggle t...\n",
      "451340   1991/10/28/0483378.xml , 'Gerard A. Perez, Mak...\n",
      "1173238  2000/04/04/1189231.xml , 'Bickering in Albany ...\n",
      "1317476  2001/09/11/1324296.xml , 'Mayoral Candidates C...\n",
      "1518866  2003/08/10/1510807.xml , 'Habitats/Yonkers; An...\n",
      "1626378  2004/06/16/1589879.xml , 'Corrections' , 'An a...\n",
      "1731421  2006/03/10/1745659.xml , 'Far From Limelight A...\n",
      "32643    1987/02/08/0011535.xml , 'DO YOU LIKE THE COLL...\n",
      "1350427  2001/12/28/1354904.xml , 'Corrections' , 'Beca...\n",
      "\n",
      "[100 rows x 1 columns]\n",
      "========================\n",
      "output_data is                                          input_header  \\\n",
      "0                       'CHILDREN'S BOOKS/POETRY' , '   \n",
      "1                    'Redskins Roll Past Cowboys' , '   \n",
      "2    'American Goalies Wait For the Decisive Word'...   \n",
      "3    'Tennis;   Flashily and Briskly, Graf Crushes...   \n",
      "4               'Zonic Corp reports earnings for' , '   \n",
      "5    'NEW YORK CITY'S JOBLESS RATE DROPS TO LOWEST...   \n",
      "6    'New York Has a Responsibility Toward Its Aba...   \n",
      "7                      'UNEASY CALM AT THE COMEX' , '   \n",
      "8    'ATTAINING SUCCESS WITH DEVOTION TO LEARNING'...   \n",
      "9         'Tartars Stage Noisy Protest in Moscow' , '   \n",
      "10   'China Said to Hold 2d Man Tied to Dissident ...   \n",
      "11   'EMC Corp reports earnings for Qtr to Dec 31'...   \n",
      "12   'The U.S. and Panama;   Noriega Judge Orders ...   \n",
      "13   'TRIDEX CORP reports earnings for Qtr to Sept...   \n",
      "14                 'THE LITTLE ENGINE THAT COULD' , '   \n",
      "15                                   'Book Notes' , '   \n",
      "16   'Review/Art; Ilya Kabakov Portrays Communal S...   \n",
      "17   'Raven Industries reports earnings for Qtr to...   \n",
      "18     'Kitty Dukakis Urging All-Out War on AIDS' , '   \n",
      "19      'DO YOU LIKE THE COLLEGE 3-POINT BASKET?' , '   \n",
      "\n",
      "                                       input_abstract  \\\n",
      "0     YOU BE GOOD &amp; I'LL BE NIGHT  Jump-on-the...   \n",
      "1    Mark Rypien threw three touchdown passes and ...   \n",
      "2    With the United States' opening game of the W...   \n",
      "3    The defending champions of the United States ...   \n",
      "4   *3*** COMPANY REPORTS ***3* Zonic Corp(Qtr to ...   \n",
      "5    A record number of New York and New Jersey re...   \n",
      "6                                 To the Editor:' , '   \n",
      "7    The dust has begun to settle at New York's Co...   \n",
      "8    The quality of the New York City school syste...   \n",
      "9    A group of 300 Tatars, calling for the right ...   \n",
      "10   The police have detained a second man connect...   \n",
      "11  *3*** COMPANY REPORTS ***3* EMC Corp (NYSE)Qtr...   \n",
      "12   In another move to tighten security in the ca...   \n",
      "13  *3*** COMPANY REPORTS ***3*TRIDEX CORP (AMEX)Q...   \n",
      "14   All the images about the withering of America...   \n",
      "15                          Worldwide Literature' , '   \n",
      "16   ''Ten Characters'' is the title of an exhibit...   \n",
      "17  *3*** COMPANY REPORTS ***3* Raven Industries (...   \n",
      "18   Kitty Dukakis said today that AIDS was ''one ...   \n",
      "19   First, the 45-second clock. Then, the 3-point...   \n",
      "\n",
      "                                    estimated_summary  \n",
      "0   Illustrated by Karen Lee Schmidt. New York: Mo...  \n",
      "1   The Cowboys led in the first quarter when Timm...  \n",
      "2   With the United States' opening game of the Wo...  \n",
      "3   She will next play 12th-seeded Jana Novotna of...  \n",
      "4   * 3 * * * COMPANY REPORTS * inc69,58563,144Sha...  \n",
      "5   Last year, there were 113,000 more New York St...  \n",
      "6   To the Editor: To the Editor: Like many New Yo...  \n",
      "7   The dust has begun to settle at New York's Com...  \n",
      "8   The quality of the New York City school system...  \n",
      "9   Holding large posters of Mikhail S. Gorbachev,...  \n",
      "10  The police have detained a second man connecte...  \n",
      "11  * 3 * * * COMPANY REPORTS * * * 3 * EMC Corp (...  \n",
      "12  In another move to tighten security in the cas...  \n",
      "13  * * 3*TRIDEX CORP ( AMEX)Qtr to Sept 261987198...  \n",
      "14  Profits are up at the big company now. After m...  \n",
      "15  Worldwide LiteratureWorldwide LiteratureIn a f...  \n",
      "16  Ilya Kabakov's'' 10 Characters'' remains at Ro...  \n",
      "17  * * 3 * Raven Industries ( AMEX)Qtr to April 3...  \n",
      "18                                                     \n",
      "19  First, the 45-second clock. GARY GARFINKEL Lon...  \n"
     ]
    }
   ],
   "source": [
    "print(\"test_data is\", test_data)\n",
    "print(\"========================\")\n",
    "print(\"output_data is\", out)\n"
   ]
  },
  {
   "cell_type": "code",
   "execution_count": 44,
   "metadata": {},
   "outputs": [
    {
     "name": "stdout",
     "output_type": "stream",
     "text": [
      "input_abstract is   Mark Rypien threw three touchdown passes and ran for one score today to lead the Washington Redskins to a 35-17 victory over the error-prone Dallas Cowboys.' , '\n",
      "=================================================\n",
      "output_abstract is  The Cowboys led in the first quarter when Timmy Newsome scored from the 1-yard line, after a Rypien fumble. The Houston backup quarterback Brent Pease, frustrated by three earlier pass interceptions, ran 4 yards for a third quarter touchdown to rally the Oilers ( 4- 2 ). The Kansas City quarterback, Steve DeBerg, led the Chiefs to both of their field goals with three straight pass completions in each drive. Chargers 17SAN DIEGO ( AP )- Bobby Hebert threw two touchdown passes and Morten Andersen kicked three field goals as New Orleans won its fifth straight game. The Raiders' quarterback, Jay Schroeder, had four passes intercepted for the second straight game.\n"
     ]
    }
   ],
   "source": [
    "# input_abstract, estimated_summary = out.iloc[0,0\n",
    "print(\"input_abstract is \", out.iloc[1]['input_abstract'])\n",
    "print(\"=================================================\")\n",
    "\n",
    "print(\"output_abstract is \", out.iloc[1]['estimated_summary'])\n",
    "\n",
    "input_abstract = out.iloc[1]['input_abstract']\n",
    "estimated_summary = out.iloc[1]['estimated_summary']"
   ]
  },
  {
   "cell_type": "code",
   "execution_count": 42,
   "metadata": {},
   "outputs": [],
   "source": [
    "def evaluation(input_abstract, estimated_summary):\n",
    "    \n",
    "    input_abstract_words = input_abstract.split(\" \")\n",
    "    estimated_summary_words = estimated_summary.split(\" \")\n",
    "    \n",
    "    over_lap = []\n",
    "    for word in input_abstract_words:\n",
    "        if word in estimated_summary_words:\n",
    "            over_lap.append(word)\n",
    "    \n",
    "    recall_count = 0\n",
    "    for word in over_lap:\n",
    "        if word in input_abstract_words:\n",
    "            recall_count += 1\n",
    "    \n",
    "    precision_count = 0\n",
    "    for word in over_lap:\n",
    "        if word in estimated_summary_words:\n",
    "            precision_count += 1\n",
    "    \n",
    "    if len(input_abstract_words) >0:\n",
    "        recall = recall_count / len(input_abstract_words)\n",
    "    else: \n",
    "        recall = 0\n",
    "        \n",
    "    if len(estimated_summary_words) >0:\n",
    "        precision = precision_count / len(estimated_summary_words)\n",
    "    else:\n",
    "        precision = 0\n",
    "        \n",
    "    print(\"recall is\", recall)\n",
    "    print(\"===================\")\n",
    "    print(\"precision is\", precision)\n",
    "        "
   ]
  },
  {
   "cell_type": "code",
   "execution_count": 45,
   "metadata": {},
   "outputs": [
    {
     "name": "stdout",
     "output_type": "stream",
     "text": [
      "recall is 0.4482758620689655\n",
      "===================\n",
      "precision is 0.11711711711711711\n"
     ]
    }
   ],
   "source": [
    "evaluation(input_abstract, estimated_summary)"
   ]
  },
  {
   "cell_type": "code",
   "execution_count": 40,
   "metadata": {
    "scrolled": true
   },
   "outputs": [
    {
     "name": "stdout",
     "output_type": "stream",
     "text": [
      "summary: If we continue our efforts, there's not going to be a Mafia in 5 to 10 years.''He Giuliani's statements in Providence went significantly beyond those of other Federal officials who have spoken on organized crime. Last April, a Presidential commission on organized crime said the Mafia remains a dominant force in an underworld that makes $ 100 billion a year. Giuliani cautioned that the decline of the Mafia did not mean the end of organized crime. Those prosecutions have disrupted the management of the mafia, he said. Further, prosecutors are pursuing efforts under Federal racketeering laws to seize the assets of the Mafia. The problems facing the Mafia are compounded by the improved status of Italian-Americans, he said.\n",
      "keywords: {'mafia leaders', 'new members', 'lower manhattan', 'sicilian mafia', 'law school', 'federal jury', 'new york', 'high school', 'mafia', 'providence', 'recent years', 'organized crime', 'mafia figures', 'news conference', 'schools', 'crime'}\n"
     ]
    }
   ],
   "source": [
    "# input_data = data[0]\n",
    "TR = TextRanker(input_body)\n",
    "# t0 = time.time()\n",
    "s, w = TR.run()\n",
    "print(\"summary:\", s)\n",
    "print(\"keywords:\", w)\n",
    "# print(time.time() - t0)"
   ]
  }
 ],
 "metadata": {
  "kernelspec": {
   "display_name": "Python 3",
   "language": "python",
   "name": "python3"
  },
  "language_info": {
   "codemirror_mode": {
    "name": "ipython",
    "version": 3
   },
   "file_extension": ".py",
   "mimetype": "text/x-python",
   "name": "python",
   "nbconvert_exporter": "python",
   "pygments_lexer": "ipython3",
   "version": "3.6.5"
  }
 },
 "nbformat": 4,
 "nbformat_minor": 2
}
